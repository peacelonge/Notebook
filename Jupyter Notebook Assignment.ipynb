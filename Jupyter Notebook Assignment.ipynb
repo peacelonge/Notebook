{
    "cells": [
        {
            "cell_type": "markdown",
            "metadata": {
                "collapsed": true
            },
            "source": "# My Jupyter Notebook on IBM Watson Studio"
        },
        {
            "cell_type": "markdown",
            "metadata": {},
            "source": "**Longe Peace Oluwatomisin**\n\nData Scientist"
        },
        {
            "cell_type": "markdown",
            "metadata": {},
            "source": "*I am interested in data science because I want to improve Nigeria's healthcare by developing AI-backed data models to predict diseases in their earliest stages, accurately track patient health data, build image processing algorithms, and lots more.*"
        },
        {
            "cell_type": "markdown",
            "metadata": {},
            "source": " ### The code written in this next line is to determine the output of an arithmetic operation, addition"
        },
        {
            "cell_type": "code",
            "execution_count": 1,
            "metadata": {},
            "outputs": [
                {
                    "data": {
                        "text/plain": "501"
                    },
                    "execution_count": 1,
                    "metadata": {},
                    "output_type": "execute_result"
                }
            ],
            "source": "213 + 288"
        },
        {
            "cell_type": "markdown",
            "metadata": {},
            "source": "\n|   Goods | Cost of Goods (COGS   |\n|-------  |--------------------   |\n| Fish    | 80  usd               |\n| Chicken | 175 usd               |\n| Pork    | 211 usd               |\n| Eggs    | 56  usd               |\n\n#### Steps for cooking rice\n------------------------\n- Wash the rice\n- Boil the rice\n- Sieve the boiled rice\n- Allow rice to dry\n- Dish rice for lunch\n\n#### Tools for painting project\n---------------------------\n1. Painting Brushes\n2. Acrylic Colors\n3. Primed Canvas\n4. Easel\n5. Pencils"
        },
        {
            "cell_type": "code",
            "execution_count": null,
            "metadata": {},
            "outputs": [],
            "source": ""
        }
    ],
    "metadata": {
        "kernelspec": {
            "display_name": "Python 3.10",
            "language": "python",
            "name": "python3"
        },
        "language_info": {
            "codemirror_mode": {
                "name": "ipython",
                "version": 3
            },
            "file_extension": ".py",
            "mimetype": "text/x-python",
            "name": "python",
            "nbconvert_exporter": "python",
            "pygments_lexer": "ipython3",
            "version": "3.10.9"
        }
    },
    "nbformat": 4,
    "nbformat_minor": 1
}